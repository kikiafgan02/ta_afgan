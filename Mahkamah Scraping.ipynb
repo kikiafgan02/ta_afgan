{
 "cells": [
  {
   "cell_type": "code",
   "execution_count": 1,
   "metadata": {},
   "outputs": [],
   "source": [
    "main_url = \"https://putusan.mahkamahagung.go.id\""
   ]
  },
  {
   "cell_type": "code",
   "execution_count": 2,
   "metadata": {},
   "outputs": [],
   "source": [
    "import requests\n"
   ]
  },
  {
   "cell_type": "code",
   "execution_count": 3,
   "metadata": {},
   "outputs": [
    {
     "name": "stderr",
     "output_type": "stream",
     "text": [
      "C:\\Users\\Rizky\\AppData\\Local\\Continuum\\anaconda3\\lib\\site-packages\\urllib3\\connectionpool.py:858: InsecureRequestWarning: Unverified HTTPS request is being made. Adding certificate verification is strongly advised. See: https://urllib3.readthedocs.io/en/latest/advanced-usage.html#ssl-warnings\n",
      "  InsecureRequestWarning)\n"
     ]
    }
   ],
   "source": [
    "result = requests.get('https://putusan.mahkamahagung.go.id/pengadilan/mahkamah-agung/direktori/perdata/tanah/index-2.html', verify=False)"
   ]
  },
  {
   "cell_type": "code",
   "execution_count": 4,
   "metadata": {},
   "outputs": [
    {
     "data": {
      "text/plain": [
       "'<!DOCTYPE HTML PUBLIC \"-//W3C//DTD HTML 4.01 Transitional//EN\" \"http://www.w3.org/TR/html4/loose.dtd\">\\n<html>\\n\\t<head>            \\n        <title>Direktori Putusan - Pengadilan > MAHKAMAH AGUNG > Perdata > Tanah</title>\\n\\t\\t\\n\\t\\t<!-- CUSTOM CSS -->\\n\\t\\t<link rel=\"stylesheet\" href=\"https://putusan.mahkamahagung.go.id/css/custom.css\" type=\"text/css\">\\n\\t\\t<link rel=\"stylesheet\" href=\"https://putusan.mahkamahagung.go.id/css/blueprint/screen.css\" type=\"text/css\" media=\"screen, projection\">\\n\\n\\t\\t<link rel=\"stylesheet\" href=\"https://putusan.mahkamahagung.go.id/css/jquery/pagination.css\" type=\"text/css\" media=\"screen, projection\">\\n\\t\\t<link rel=\"stylesheet\" href=\"https://putusan.mahkamahagung.go.id/css/jquery/menu/superfish.css\"type=\"text/css\" media=\"screen\"  />\\n\\n\\t\\t<script type=\"text/javascript\" src=\"https://putusan.mahkamahagung.go.id/js/_other/js.js\"></script>\\n\\t\\t<script type=\"text/javascript\" src=\"https://putusan.mahkamahagung.go.id/js/jquery/jquery-1.3.2.min.js\"></script>\\n\\t\\t<script type=\"text/javascript'"
      ]
     },
     "execution_count": 4,
     "metadata": {},
     "output_type": "execute_result"
    }
   ],
   "source": [
    "result.text[:1000]"
   ]
  },
  {
   "cell_type": "code",
   "execution_count": 5,
   "metadata": {},
   "outputs": [],
   "source": [
    "from bs4 import BeautifulSoup\n",
    "soup = BeautifulSoup(result.text, 'html.parser')"
   ]
  },
  {
   "cell_type": "code",
   "execution_count": 6,
   "metadata": {},
   "outputs": [
    {
     "name": "stdout",
     "output_type": "stream",
     "text": [
      "<!DOCTYPE HTML PUBLIC \"-//W3C//DTD HTML 4.01 Transitional//EN\" \"http://www.w3.org/TR/html4/loose.dtd\">\n",
      "<html>\n",
      " <head>\n",
      "  <title>\n",
      "   Direktori Putusan - Pengadilan &gt; MAHKAMAH AGUNG &gt; Perdata &gt; Tanah\n",
      "  </title>\n",
      "  <!-- CUSTOM CSS -->\n",
      "  <link href=\"https://putusan.mahkamahagung.go.id/css/custom.css\" rel=\"stylesheet\" type=\"text/css\"/>\n",
      "  <link href=\"https://putusan.mahkamahagung.go.id/css/blueprint/screen.css\" media=\"screen, projection\" rel=\"stylesheet\" type=\"text/css\"/>\n",
      "  <link href=\"https://putusan.mahkamahagung.go.id/css/jquery/pagination.css\" media=\"screen, projection\" rel=\"stylesheet\" type=\"text/css\"/>\n",
      "  <link href=\"https://putusan.mahkamahagung.go.id/css/jquery/menu/superfish.css\" media=\"screen\" rel=\"stylesheet\" type=\"text/css\">\n",
      "   <script src=\"https://putusan.mahkamahagung.go.id/js/_other/js.js\" type=\"text/javascript\">\n",
      "   </script>\n",
      "   <script src=\"https://putusan.mahkamahagung.go.id/js/jquery/jquery-1.3.2.min.js\" type=\"text/javascript\">\n",
      "   </script>\n",
      "   <script src=\"https://put\n"
     ]
    }
   ],
   "source": [
    "print(soup.prettify()[:1000])"
   ]
  },
  {
   "cell_type": "code",
   "execution_count": 7,
   "metadata": {},
   "outputs": [],
   "source": [
    "def getAndParseURL(url):\n",
    "    result = requests.get(url, verify=False)\n",
    "    soup = BeautifulSoup(result.text, 'html.parser')\n",
    "    return(soup)"
   ]
  },
  {
   "cell_type": "code",
   "execution_count": 8,
   "metadata": {},
   "outputs": [],
   "source": [
    "soup.find(\"tr\", class_ = \"tabledatarowodd\")"
   ]
  },
  {
   "cell_type": "code",
   "execution_count": 9,
   "metadata": {},
   "outputs": [
    {
     "data": {
      "text/plain": [
       "['https://putusan.mahkamahagung.go.id/putusan/d5da9af4814c92158ae0e34c4335c95f',\n",
       " 'https://putusan.mahkamahagung.go.id/putusan/db6d5d02af56d1ee3908fe3a36f4163f']"
      ]
     },
     "execution_count": 9,
     "metadata": {},
     "output_type": "execute_result"
    }
   ],
   "source": [
    "containers = soup.find_all(\"table\", class_ = \"tabledata\")\n",
    "url_mahkamah = []\n",
    "\n",
    "for c in containers:\n",
    "    row = c.findAll('tr')\n",
    "    for link in row:\n",
    "        #print(link)\n",
    "        my_link = link.findAll('a')\n",
    "        a_link= my_link[3].get('href')\n",
    "        #print(my_link)\n",
    "        #print(a_link)\n",
    "        url_mahkamah.append(a_link)\n",
    "        \n",
    "url_mahkamah[:2]\n"
   ]
  },
  {
   "cell_type": "code",
   "execution_count": 10,
   "metadata": {},
   "outputs": [
    {
     "name": "stdout",
     "output_type": "stream",
     "text": [
      "50 fetched products URLs\n",
      "One example:\n"
     ]
    },
    {
     "data": {
      "text/plain": [
       "'https://putusan.mahkamahagung.go.id/putusan/d5da9af4814c92158ae0e34c4335c95f'"
      ]
     },
     "execution_count": 10,
     "metadata": {},
     "output_type": "execute_result"
    }
   ],
   "source": [
    "print(str(len(url_mahkamah)) + \" fetched products URLs\")\n",
    "print(\"One example:\")\n",
    "url_mahkamah[0]"
   ]
  },
  {
   "cell_type": "code",
   "execution_count": 11,
   "metadata": {},
   "outputs": [],
   "source": [
    "def urlmahkamah(url):\n",
    "   \n",
    "    #containers = a.find_all('div', class_ = 'card card-type-1')\n",
    "    gg = []\n",
    "    soup = getAndParseURL(url)\n",
    "    containers = soup.find_all(\"table\", class_ = \"tabledata\")\n",
    "    for c in containers:\n",
    "        row = c.findAll('tr')\n",
    "        for link in row:\n",
    "        #print(link)\n",
    "            my_link = link.findAll('a')\n",
    "            a_link= my_link[3].get('href')\n",
    "            gg.append(a_link)\n",
    "    return(gg)"
   ]
  },
  {
   "cell_type": "code",
   "execution_count": null,
   "metadata": {},
   "outputs": [
    {
     "name": "stderr",
     "output_type": "stream",
     "text": [
      "C:\\Users\\Rizky\\AppData\\Local\\Continuum\\anaconda3\\lib\\site-packages\\urllib3\\connectionpool.py:858: InsecureRequestWarning: Unverified HTTPS request is being made. Adding certificate verification is strongly advised. See: https://urllib3.readthedocs.io/en/latest/advanced-usage.html#ssl-warnings\n",
      "  InsecureRequestWarning)\n"
     ]
    }
   ],
   "source": [
    "new = [\"https://putusan.mahkamahagung.go.id/pengadilan/mahkamah-agung/direktori/perdata/tanah/index-1.html\"]\n",
    "tahun = []\n",
    "pages_urls = []\n",
    "\n",
    "for page in range(1,6):\n",
    "    new_page = new[-1].split(\"-\")[0] + \"-\" + new[-1].split(\"-\")[1] + \"-\" + str(page) + \".html\"\n",
    "    #print(new_page)\n",
    "    soup = getAndParseURL(new_page)\n",
    "\n",
    "    containers = soup.find_all(\"table\", class_ = \"tabledata\")\n",
    "    \n",
    "\n",
    "    for c in containers:\n",
    "        #print(\"y\")\n",
    "        row = c.findAll('div')\n",
    "        for a in row:\n",
    "            a_link= a.text\n",
    "            #print(a_link)\n",
    "            data = a_link.split(\"-\")\n",
    "            x = data[3]\n",
    "            x = x.split (\" \")\n",
    "            #print(x[0])\n",
    "    \n",
    "    if x[0] >= '2017':\n",
    "        #print(\"horay\")\n",
    "        pages_urls.append(new_page)\n",
    "        \n",
    "\n",
    "    \n",
    "            \n",
    "print(pages_urls[0:100])\n"
   ]
  },
  {
   "cell_type": "code",
   "execution_count": 13,
   "metadata": {},
   "outputs": [
    {
     "name": "stdout",
     "output_type": "stream",
     "text": [
      "5 fetched URLs\n",
      "Some examples:\n"
     ]
    },
    {
     "data": {
      "text/plain": [
       "['https://putusan.mahkamahagung.go.id/pengadilan/mahkamah-agung/direktori/perdata/tanah/index-1.html',\n",
       " 'https://putusan.mahkamahagung.go.id/pengadilan/mahkamah-agung/direktori/perdata/tanah/index-2.html',\n",
       " 'https://putusan.mahkamahagung.go.id/pengadilan/mahkamah-agung/direktori/perdata/tanah/index-3.html',\n",
       " 'https://putusan.mahkamahagung.go.id/pengadilan/mahkamah-agung/direktori/perdata/tanah/index-4.html',\n",
       " 'https://putusan.mahkamahagung.go.id/pengadilan/mahkamah-agung/direktori/perdata/tanah/index-5.html']"
      ]
     },
     "execution_count": 13,
     "metadata": {},
     "output_type": "execute_result"
    }
   ],
   "source": [
    "print(str(len(pages_urls)) + \" fetched URLs\")\n",
    "print(\"Some examples:\")\n",
    "pages_urls[0:70]"
   ]
  },
  {
   "cell_type": "code",
   "execution_count": null,
   "metadata": {
    "scrolled": true
   },
   "outputs": [
    {
     "name": "stderr",
     "output_type": "stream",
     "text": [
      "C:\\Users\\Wilda\\Anaconda3\\lib\\site-packages\\urllib3\\connectionpool.py:858: InsecureRequestWarning: Unverified HTTPS request is being made. Adding certificate verification is strongly advised. See: https://urllib3.readthedocs.io/en/latest/advanced-usage.html#ssl-warnings\n",
      "  InsecureRequestWarning)\n",
      "C:\\Users\\Wilda\\Anaconda3\\lib\\site-packages\\urllib3\\connectionpool.py:858: InsecureRequestWarning: Unverified HTTPS request is being made. Adding certificate verification is strongly advised. See: https://urllib3.readthedocs.io/en/latest/advanced-usage.html#ssl-warnings\n",
      "  InsecureRequestWarning)\n"
     ]
    }
   ],
   "source": [
    "linkmahkamah = []\n",
    "for link in pages_urls:\n",
    "    linkmahkamah.extend(urlmahkamah(link))"
   ]
  },
  {
   "cell_type": "code",
   "execution_count": 28,
   "metadata": {},
   "outputs": [
    {
     "name": "stdout",
     "output_type": "stream",
     "text": [
      "250 fetched URLs\n",
      "Some examples:\n"
     ]
    },
    {
     "data": {
      "text/plain": [
       "['https://putusan.mahkamahagung.go.id/putusan/5217a5e5c3aa11a019a566547c976b29',\n",
       " 'https://putusan.mahkamahagung.go.id/putusan/4a7eb17c047e182b5511f14212be9b90',\n",
       " 'https://putusan.mahkamahagung.go.id/putusan/b5d7f193711f17d292f3026492133d1a',\n",
       " 'https://putusan.mahkamahagung.go.id/putusan/43317b4aedf0c61520d44bafb211c5a9',\n",
       " 'https://putusan.mahkamahagung.go.id/putusan/b51aba9823b2acce1e65b34cb050d067',\n",
       " 'https://putusan.mahkamahagung.go.id/putusan/a09cd4c9bbad8ec9d762259fb64f82d8',\n",
       " 'https://putusan.mahkamahagung.go.id/putusan/d4e19cdfd2fc2e7eb5bea8899c2d0158',\n",
       " 'https://putusan.mahkamahagung.go.id/putusan/01f737b267231741e75469434acce861',\n",
       " 'https://putusan.mahkamahagung.go.id/putusan/3b52d8ff53bddf84e13968af5cb93fdf',\n",
       " 'https://putusan.mahkamahagung.go.id/putusan/18c1c7edd82e6c3fa79f08af409dbf24',\n",
       " 'https://putusan.mahkamahagung.go.id/putusan/e9c358ac38fd14486f117932f02dc524',\n",
       " 'https://putusan.mahkamahagung.go.id/putusan/687dd3764f538576887651d2b372f10f',\n",
       " 'https://putusan.mahkamahagung.go.id/putusan/e812c820dd58bffb16487eba23b18f74',\n",
       " 'https://putusan.mahkamahagung.go.id/pengadilan/mahkamah-agung/direktori/perdata/perbuatan-melawan-hukum/',\n",
       " 'https://putusan.mahkamahagung.go.id/putusan/09e1d929919afafc2f6c8ca14002a9e1',\n",
       " 'https://putusan.mahkamahagung.go.id/pengadilan/mahkamah-agung/direktori/perdata/perbuatan-melawan-hukum/',\n",
       " 'https://putusan.mahkamahagung.go.id/pengadilan/mahkamah-agung/direktori/perdata/waris/',\n",
       " 'https://putusan.mahkamahagung.go.id/putusan/b99bad8e90078a783ce333f1aceb023f',\n",
       " 'https://putusan.mahkamahagung.go.id/pengadilan/mahkamah-agung/direktori/perdata/tanah/',\n",
       " 'https://putusan.mahkamahagung.go.id/pengadilan/mahkamah-agung/direktori/perdata/perbuatan-melawan-hukum/',\n",
       " 'https://putusan.mahkamahagung.go.id/putusan/4e9b69ea17fae6354cec77d91184e77d',\n",
       " 'https://putusan.mahkamahagung.go.id/putusan/5cefda4de19805dc6e237c2ec4f172fe',\n",
       " 'https://putusan.mahkamahagung.go.id/pengadilan/mahkamah-agung/direktori/perdata/perbuatan-melawan-hukum/',\n",
       " 'https://putusan.mahkamahagung.go.id/putusan/d0d0971b90ba109b7dff57503225d283',\n",
       " 'https://putusan.mahkamahagung.go.id/putusan/162ed4014d3c69bc7e28774b0c2421e2',\n",
       " 'https://putusan.mahkamahagung.go.id/pengadilan/mahkamah-agung/direktori/perdata/tanah/',\n",
       " 'https://putusan.mahkamahagung.go.id/pengadilan/mahkamah-agung/direktori/perdata/tanah/',\n",
       " 'https://putusan.mahkamahagung.go.id/putusan/b79e2a364feee27d68d3db6cf6c97c50',\n",
       " 'https://putusan.mahkamahagung.go.id/putusan/ffe70d5601b8755cfacb10402b4d2e4c',\n",
       " 'https://putusan.mahkamahagung.go.id/putusan/6ab7db087149e19e71a396132b6dfa4f',\n",
       " 'https://putusan.mahkamahagung.go.id/pengadilan/mahkamah-agung/direktori/perdata/perbuatan-melawan-hukum/',\n",
       " 'https://putusan.mahkamahagung.go.id/pengadilan/mahkamah-agung/direktori/perdata/perbuatan-melawan-hukum/',\n",
       " 'https://putusan.mahkamahagung.go.id/putusan/ec74d86a6f04088c7418bb81f1172cdb',\n",
       " 'https://putusan.mahkamahagung.go.id/pengadilan/mahkamah-agung/direktori/perdata/perbuatan-melawan-hukum/',\n",
       " 'https://putusan.mahkamahagung.go.id/putusan/12292e025cc640a46d7b40a1be29c6b9',\n",
       " 'https://putusan.mahkamahagung.go.id/pengadilan/mahkamah-agung/direktori/perdata/perjanjian/',\n",
       " 'https://putusan.mahkamahagung.go.id/pengadilan/mahkamah-agung/direktori/perdata/perbuatan-melawan-hukum/',\n",
       " 'https://putusan.mahkamahagung.go.id/pengadilan/mahkamah-agung/direktori/perdata/perbuatan-melawan-hukum/',\n",
       " 'https://putusan.mahkamahagung.go.id/putusan/21d85a74157ce499666c35391a882648',\n",
       " 'https://putusan.mahkamahagung.go.id/putusan/887c16a804599f9276ca618b8547923f',\n",
       " 'https://putusan.mahkamahagung.go.id/putusan/24138fb29e64515ac97047786466827d',\n",
       " 'https://putusan.mahkamahagung.go.id/putusan/034ffd3ade0edeaf3d67eba282f12abb',\n",
       " 'https://putusan.mahkamahagung.go.id/putusan/71cd2ff70097c996ea89e7a589bdae34',\n",
       " 'https://putusan.mahkamahagung.go.id/putusan/c0e5105149b7b9b682f6d8ba9eed2a83',\n",
       " 'https://putusan.mahkamahagung.go.id/putusan/70eab63495e561c01a38f235802f1ad3',\n",
       " 'https://putusan.mahkamahagung.go.id/putusan/7cd9138bfc65425e716248ac8312af87',\n",
       " 'https://putusan.mahkamahagung.go.id/putusan/33dea13af4c227619a0db91e848ff71e',\n",
       " 'https://putusan.mahkamahagung.go.id/pengadilan/mahkamah-agung/direktori/perdata/perbuatan-melawan-hukum/',\n",
       " 'https://putusan.mahkamahagung.go.id/putusan/99c7a0e55f67a7756af9eba25152d95c',\n",
       " 'https://putusan.mahkamahagung.go.id/putusan/7460399862a09524105524ae84d035f2',\n",
       " 'https://putusan.mahkamahagung.go.id/putusan/ededffc937564d349dd6a7123da9f4bb']"
      ]
     },
     "execution_count": 28,
     "metadata": {},
     "output_type": "execute_result"
    }
   ],
   "source": [
    "print(str(len(linkmahkamah)) + \" fetched URLs\")\n",
    "print(\"Some examples:\")\n",
    "linkmahkamah[150:201]"
   ]
  },
  {
   "cell_type": "code",
   "execution_count": 109,
   "metadata": {},
   "outputs": [
    {
     "name": "stderr",
     "output_type": "stream",
     "text": [
      "C:\\Users\\Wilda\\Anaconda3\\lib\\site-packages\\urllib3\\connectionpool.py:858: InsecureRequestWarning: Unverified HTTPS request is being made. Adding certificate verification is strongly advised. See: https://urllib3.readthedocs.io/en/latest/advanced-usage.html#ssl-warnings\n",
      "  InsecureRequestWarning)\n"
     ]
    },
    {
     "name": "stdout",
     "output_type": "stream",
     "text": [
      "<a href=\"https://putusan.mahkamahagung.go.id/putusan/downloadpdf/6c5a0a3f84aab6532d9dd2770affaa52/pdf\" title=\"\">\n",
      "\t\t\t\t1518 K-PDT-2018_selesaieditPP.pdf\t\t\t\t</a>\n",
      "https://putusan.mahkamahagung.go.id/putusan/downloadpdf/6c5a0a3f84aab6532d9dd2770affaa52/pdf\n"
     ]
    }
   ],
   "source": [
    "soup2 = getAndParseURL('https://putusan.mahkamahagung.go.id/putusan/5217a5e5c3aa11a019a566547c976b29')\n",
    "containers2 = soup2.find_all(\"div\", class_ = \"span-13\")\n",
    "for c in containers2:\n",
    "    my_link = c.findAll('table')\n",
    "    a_link= my_link[3].a\n",
    "    print(a_link)\n",
    "    pdf_link = a_link.get('href')\n",
    "    print(pdf_link)\n",
    "    \n"
   ]
  },
  {
   "cell_type": "code",
   "execution_count": 122,
   "metadata": {},
   "outputs": [
    {
     "name": "stderr",
     "output_type": "stream",
     "text": [
      "C:\\Users\\Wilda\\Anaconda3\\lib\\site-packages\\urllib3\\connectionpool.py:858: InsecureRequestWarning: Unverified HTTPS request is being made. Adding certificate verification is strongly advised. See: https://urllib3.readthedocs.io/en/latest/advanced-usage.html#ssl-warnings\n",
      "  InsecureRequestWarning)\n"
     ]
    },
    {
     "name": "stdout",
     "output_type": "stream",
     "text": [
      "['https://putusan.mahkamahagung.go.id/putusan/downloadpdf/1a9fa4ceaede73d7aa81d10fc3f622ba/pdf']\n"
     ]
    }
   ],
   "source": [
    "\n",
    "pdf_link = []\n",
    "soup = getAndParseURL('https://putusan.mahkamahagung.go.id/putusan/ededffc937564d349dd6a7123da9f4bb')\n",
    "containers = soup.find_all(\"div\", class_ = \"span-13\")\n",
    "for c in containers:\n",
    "    c_table = c.findAll('table')\n",
    "    table_link= c_table[3].a\n",
    "    #print(table_link)\n",
    "    pdflink = table_link.get('href')\n",
    "    #print(pdflink)\n",
    "    pdf_link.append(pdflink)\n",
    "    print(pdf_link)\n"
   ]
  },
  {
   "cell_type": "code",
   "execution_count": null,
   "metadata": {},
   "outputs": [],
   "source": [
    "pdfmahkamah = ['https://putusan.mahkamahagung.go.id/putusan/ededffc937564d349dd6a7123da9f4bb']\n",
    "linkpdfmahkamah = []\n",
    "for link in linkmahkamah:\n",
    "    linkpdfmahkamah.extend(get_pdf_link(link))"
   ]
  },
  {
   "cell_type": "code",
   "execution_count": 128,
   "metadata": {},
   "outputs": [
    {
     "name": "stdout",
     "output_type": "stream",
     "text": [
      "5 fetched URLs\n",
      "pdf mahkamah:\n"
     ]
    },
    {
     "data": {
      "text/plain": [
       "['https://putusan.mahkamahagung.go.id/putusan/downloadpdf/181217750b7b3de791d68bcd60feaa8a/pdf',\n",
       " 'https://putusan.mahkamahagung.go.id/putusan/downloadpdf/6d5fd77656533eab9780ab52cb0c3bd6/pdf',\n",
       " 'https://putusan.mahkamahagung.go.id/putusan/downloadpdf/ba46f8fa64d5a14435f9d90258fab0f2/pdf',\n",
       " 'https://putusan.mahkamahagung.go.id/putusan/downloadpdf/cae70e9f8d5ef06e50e45f0a3855cf8f/pdf',\n",
       " 'https://putusan.mahkamahagung.go.id/putusan/downloadpdf/1e82f088ef7ae60e55f398ac0b61d027/pdf']"
      ]
     },
     "execution_count": 128,
     "metadata": {},
     "output_type": "execute_result"
    }
   ],
   "source": [
    "print(str(len(linkpdfmahkamah)) + \" fetched URLs\")\n",
    "print(\"pdf mahkamah:\")\n",
    "linkpdfmahkamah[0:201]"
   ]
  },
  {
   "cell_type": "code",
   "execution_count": 149,
   "metadata": {},
   "outputs": [
    {
     "name": "stderr",
     "output_type": "stream",
     "text": [
      "C:\\Users\\Wilda\\Anaconda3\\lib\\site-packages\\urllib3\\connectionpool.py:858: InsecureRequestWarning: Unverified HTTPS request is being made. Adding certificate verification is strongly advised. See: https://urllib3.readthedocs.io/en/latest/advanced-usage.html#ssl-warnings\n",
      "  InsecureRequestWarning)\n"
     ]
    }
   ],
   "source": [
    "r = requests.get('https://putusan.mahkamahagung.go.id/putusan/downloadpdf/6d5fd77656533eab9780ab52cb0c3bd6/pdf', stream = True, verify=False) "
   ]
  },
  {
   "cell_type": "code",
   "execution_count": 150,
   "metadata": {
    "scrolled": true
   },
   "outputs": [
    {
     "ename": "NameError",
     "evalue": "name 'convert_pdf_to_txt' is not defined",
     "output_type": "error",
     "traceback": [
      "\u001b[1;31m---------------------------------------------------------------------------\u001b[0m",
      "\u001b[1;31mNameError\u001b[0m                                 Traceback (most recent call last)",
      "\u001b[1;32m<ipython-input-150-837bcf19e70f>\u001b[0m in \u001b[0;36m<module>\u001b[1;34m()\u001b[0m\n\u001b[0;32m      5\u001b[0m          \u001b[1;32mif\u001b[0m \u001b[0mchunk\u001b[0m\u001b[1;33m:\u001b[0m\u001b[1;33m\u001b[0m\u001b[0m\n\u001b[0;32m      6\u001b[0m              \u001b[0mpdf\u001b[0m\u001b[1;33m.\u001b[0m\u001b[0mwrite\u001b[0m\u001b[1;33m(\u001b[0m\u001b[0mchunk\u001b[0m\u001b[1;33m)\u001b[0m\u001b[1;33m\u001b[0m\u001b[0m\n\u001b[1;32m----> 7\u001b[1;33m \u001b[0mtext\u001b[0m \u001b[1;33m=\u001b[0m \u001b[0mconvert_pdf_to_txt\u001b[0m\u001b[1;33m(\u001b[0m\u001b[1;34m\"python.pdf\"\u001b[0m\u001b[1;33m)\u001b[0m\u001b[1;33m\u001b[0m\u001b[0m\n\u001b[0m\u001b[0;32m      8\u001b[0m \u001b[0mprint\u001b[0m\u001b[1;33m(\u001b[0m\u001b[0mtext\u001b[0m\u001b[1;33m)\u001b[0m\u001b[1;33m\u001b[0m\u001b[0m\n",
      "\u001b[1;31mNameError\u001b[0m: name 'convert_pdf_to_txt' is not defined"
     ]
    }
   ],
   "source": [
    "with open(\"python.pdf\",\"wb\") as pdf: \n",
    "    for chunk in r.iter_content(chunk_size=1024): \n",
    "  \n",
    "         # writing one chunk at a time to pdf file \n",
    "         if chunk: \n",
    "             pdf.write(chunk) \n",
    "text = convert_pdf_to_txt(\"python.pdf\")\n",
    "print(text)"
   ]
  },
  {
   "cell_type": "code",
   "execution_count": 152,
   "metadata": {},
   "outputs": [
    {
     "ename": "ModuleNotFoundError",
     "evalue": "No module named 'cStringIO'",
     "output_type": "error",
     "traceback": [
      "\u001b[1;31m---------------------------------------------------------------------------\u001b[0m",
      "\u001b[1;31mModuleNotFoundError\u001b[0m                       Traceback (most recent call last)",
      "\u001b[1;32m<ipython-input-152-b0b7bdd2215f>\u001b[0m in \u001b[0;36m<module>\u001b[1;34m()\u001b[0m\n\u001b[1;32m----> 1\u001b[1;33m \u001b[1;32mfrom\u001b[0m \u001b[0mcStringIO\u001b[0m \u001b[1;32mimport\u001b[0m \u001b[0mStringIO\u001b[0m\u001b[1;33m\u001b[0m\u001b[0m\n\u001b[0m\u001b[0;32m      2\u001b[0m \u001b[1;32mfrom\u001b[0m \u001b[0mpdfminer\u001b[0m\u001b[1;33m.\u001b[0m\u001b[0mpdfinterp\u001b[0m \u001b[1;32mimport\u001b[0m \u001b[0mPDFResourceManager\u001b[0m\u001b[1;33m,\u001b[0m \u001b[0mPDFPageInterpreter\u001b[0m\u001b[1;33m\u001b[0m\u001b[0m\n\u001b[0;32m      3\u001b[0m \u001b[1;32mfrom\u001b[0m \u001b[0mpdfminer\u001b[0m\u001b[1;33m.\u001b[0m\u001b[0mconverter\u001b[0m \u001b[1;32mimport\u001b[0m \u001b[0mTextConverter\u001b[0m\u001b[1;33m\u001b[0m\u001b[0m\n\u001b[0;32m      4\u001b[0m \u001b[1;32mfrom\u001b[0m \u001b[0mpdfminer\u001b[0m\u001b[1;33m.\u001b[0m\u001b[0mlayout\u001b[0m \u001b[1;32mimport\u001b[0m \u001b[0mLAParams\u001b[0m\u001b[1;33m\u001b[0m\u001b[0m\n\u001b[0;32m      5\u001b[0m \u001b[1;32mfrom\u001b[0m \u001b[0mpdfminer\u001b[0m\u001b[1;33m.\u001b[0m\u001b[0mpdfpage\u001b[0m \u001b[1;32mimport\u001b[0m \u001b[0mPDFPage\u001b[0m\u001b[1;33m\u001b[0m\u001b[0m\n",
      "\u001b[1;31mModuleNotFoundError\u001b[0m: No module named 'cStringIO'"
     ]
    }
   ],
   "source": [
    "from cStringIO import StringIO\n",
    "from pdfminer.pdfinterp import PDFResourceManager, PDFPageInterpreter\n",
    "from pdfminer.converter import TextConverter\n",
    "from pdfminer.layout import LAParams\n",
    "from pdfminer.pdfpage import PDFPage\n",
    " \n",
    "def convert(fname, pages=None):\n",
    "    if not pages:\n",
    "        pagenums = set()\n",
    "    else:\n",
    "        pagenums = set(pages)\n",
    " \n",
    "    output = StringIO()\n",
    "    manager = PDFResourceManager()\n",
    "    converter = TextConverter(manager, output, laparams=LAParams())\n",
    "    interpreter = PDFPageInterpreter(manager, converter)\n",
    " \n",
    "    infile = file(fname, 'rb')\n",
    "    for page in PDFPage.get_pages(infile, pagenums):\n",
    "        interpreter.process_page(page)\n",
    "    infile.close()\n",
    "    converter.close()\n",
    "    text = output.getvalue()\n",
    "    output.close\n",
    "    return text"
   ]
  },
  {
   "cell_type": "code",
   "execution_count": null,
   "metadata": {},
   "outputs": [],
   "source": []
  }
 ],
 "metadata": {
  "kernelspec": {
   "display_name": "Python 3",
   "language": "python",
   "name": "python3"
  },
  "language_info": {
   "codemirror_mode": {
    "name": "ipython",
    "version": 3
   },
   "file_extension": ".py",
   "mimetype": "text/x-python",
   "name": "python",
   "nbconvert_exporter": "python",
   "pygments_lexer": "ipython3",
   "version": "3.6.5"
  }
 },
 "nbformat": 4,
 "nbformat_minor": 2
}
