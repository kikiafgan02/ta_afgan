{
 "cells": [
  {
   "cell_type": "code",
   "execution_count": 1,
   "metadata": {},
   "outputs": [
    {
     "data": {
      "text/plain": [
       "'C:\\\\Users\\\\Rizky\\\\AppData\\\\Local\\\\Continuum\\\\anaconda3\\\\envs\\\\ta\\\\python.exe'"
      ]
     },
     "execution_count": 1,
     "metadata": {},
     "output_type": "execute_result"
    }
   ],
   "source": [
    "import sys\n",
    "sys.executable"
   ]
  },
  {
   "cell_type": "code",
   "execution_count": 2,
   "metadata": {},
   "outputs": [
    {
     "name": "stdout",
     "output_type": "stream",
     "text": [
      "Available kernels:\n",
      "  python3    C:\\Users\\Rizky\\AppData\\Local\\Continuum\\anaconda3\\share\\jupyter\\kernels\\python3\n"
     ]
    }
   ],
   "source": [
    "!jupyter kernelspec list"
   ]
  },
  {
   "cell_type": "code",
   "execution_count": 3,
   "metadata": {},
   "outputs": [
    {
     "data": {
      "text/plain": [
       "['',\n",
       " 'C:\\\\Users\\\\Rizky\\\\AppData\\\\Local\\\\Continuum\\\\anaconda3\\\\python36.zip',\n",
       " 'C:\\\\Users\\\\Rizky\\\\AppData\\\\Local\\\\Continuum\\\\anaconda3\\\\DLLs',\n",
       " 'C:\\\\Users\\\\Rizky\\\\AppData\\\\Local\\\\Continuum\\\\anaconda3\\\\lib',\n",
       " 'C:\\\\Users\\\\Rizky\\\\AppData\\\\Local\\\\Continuum\\\\anaconda3',\n",
       " 'C:\\\\Users\\\\Rizky\\\\AppData\\\\Local\\\\Continuum\\\\anaconda3\\\\lib\\\\site-packages',\n",
       " 'C:\\\\Users\\\\Rizky\\\\AppData\\\\Local\\\\Continuum\\\\anaconda3\\\\lib\\\\site-packages\\\\win32',\n",
       " 'C:\\\\Users\\\\Rizky\\\\AppData\\\\Local\\\\Continuum\\\\anaconda3\\\\lib\\\\site-packages\\\\win32\\\\lib',\n",
       " 'C:\\\\Users\\\\Rizky\\\\AppData\\\\Local\\\\Continuum\\\\anaconda3\\\\lib\\\\site-packages\\\\Pythonwin',\n",
       " 'C:\\\\Users\\\\Rizky\\\\AppData\\\\Local\\\\Continuum\\\\anaconda3\\\\lib\\\\site-packages\\\\IPython\\\\extensions',\n",
       " 'C:\\\\Users\\\\Rizky\\\\.ipython']"
      ]
     },
     "execution_count": 3,
     "metadata": {},
     "output_type": "execute_result"
    }
   ],
   "source": [
    "import sys\n",
    "sys.path"
   ]
  },
  {
   "cell_type": "code",
   "execution_count": 4,
   "metadata": {},
   "outputs": [
    {
     "ename": "ModuleNotFoundError",
     "evalue": "No module named 'textract'",
     "output_type": "error",
     "traceback": [
      "\u001b[1;31m----------------------------------------------------------------\u001b[0m",
      "\u001b[1;31mModuleNotFoundError\u001b[0m            Traceback (most recent call last)",
      "\u001b[1;32m<ipython-input-4-7a48b8e21748>\u001b[0m in \u001b[0;36m<module>\u001b[1;34m()\u001b[0m\n\u001b[0;32m      1\u001b[0m \u001b[1;32mimport\u001b[0m \u001b[0mPyPDF2\u001b[0m\u001b[1;33m\u001b[0m\u001b[0m\n\u001b[1;32m----> 2\u001b[1;33m \u001b[1;32mimport\u001b[0m \u001b[0mtextract\u001b[0m\u001b[1;33m\u001b[0m\u001b[0m\n\u001b[0m",
      "\u001b[1;31mModuleNotFoundError\u001b[0m: No module named 'textract'"
     ]
    }
   ],
   "source": [
    "import PyPDF2\n",
    "import textract"
   ]
  },
  {
   "cell_type": "code",
   "execution_count": 7,
   "metadata": {},
   "outputs": [],
   "source": [
    "from nltk.tokenize import word_tokenize\n",
    "from nltk.corpus import stopwords"
   ]
  },
  {
   "cell_type": "code",
   "execution_count": 9,
   "metadata": {},
   "outputs": [],
   "source": [
    "def extractPdfText(filePath=''):\n",
    "\n",
    "    # Open the pdf file in read binary mode.\n",
    "    fileObject = open(filePath, 'rb')\n",
    "\n",
    "    # Create a pdf reader .\n",
    "    pdfFileReader = PyPDF2.PdfFileReader(fileObject)\n",
    "\n",
    "    # Get total pdf page number.\n",
    "    totalPageNumber = pdfFileReader.numPages\n",
    "\n",
    "    # Print pdf total page number.\n",
    "    print('This pdf file contains totally ' + str(totalPageNumber) + ' pages.')\n",
    "\n",
    "    currentPageNumber = 1\n",
    "    text = ''\n",
    "\n",
    "    # Loop in all the pdf pages.\n",
    "    while(currentPageNumber < totalPageNumber ):\n",
    "\n",
    "        # Get the specified pdf page object.\n",
    "        pdfPage = pdfFileReader.getPage(currentPageNumber)\n",
    "\n",
    "        # Get pdf page text.\n",
    "        text = text + pdfPage.extractText()\n",
    "\n",
    "        # Process next page.\n",
    "        currentPageNumber += 1\n",
    "\n",
    "    if(text == ''):\n",
    "        # If can not extract text then use ocr lib to extract the scanned pdf file.\n",
    "        text = textract.process(filePath, method='tesseract', encoding='utf-8')\n",
    "       \n",
    "    return text"
   ]
  },
  {
   "cell_type": "code",
   "execution_count": 14,
   "metadata": {},
   "outputs": [
    {
     "name": "stdout",
     "output_type": "stream",
     "text": [
      "This pdf file contains totally 10 pages.\n"
     ]
    }
   ],
   "source": [
    "pdfFilePath = '714_PK_2018_ZR-IBR-SLT_PP_NLP_TIO.pdf'\n",
    "   \n",
    "pdfText = extractPdfText(pdfFilePath)"
   ]
  },
  {
   "cell_type": "code",
   "execution_count": 15,
   "metadata": {},
   "outputs": [
    {
     "name": "stdout",
     "output_type": "stream",
     "text": [
      "There are 8677 word in the pdf file.\n"
     ]
    }
   ],
   "source": [
    "print('There are ' + str(pdfText.__len__()) + ' word in the pdf file.')\n"
   ]
  },
  {
   "cell_type": "code",
   "execution_count": 16,
   "metadata": {},
   "outputs": [
    {
     "name": "stdout",
     "output_type": "stream",
     "text": [
      "Mahkamah Agung Republik IndonesiaMahkamah Agung Republik IndonesiaMahkamah Agung Republik IndonesiaMahkamah Agung Republik IndonesiaMahkamah Agung Republik IndonesiaDirektori Putusan Mahkamah Agung Republik Indonesiaputusan.mahkamahagung.go.idDisclaimerKepaniteraan Mahkamah Agung Republik Indonesia berusaha untuk selalu mencantumkan informasi paling kini dan akurat sebagai bentuk komitmen Mahkamah Agung untuk pelayanan publik, transparansi dan akuntabilitas pelaksanaan fungsi peradilan. Namun dalam hal-hal tertentu masih dimungkinkan terjadi permasalahan teknis terkait dengan akurasi dan keterkinian informasi yang kami sajikan, hal mana akan terus kami perbaiki dari waktu kewaktu.Dalam hal Anda menemukan inakurasi informasi yang termuat pada situs ini atau informasi yang seharusnya ada, namun belum tersedia, maka harap segera hubungi Kepaniteraan Mahkamah Agung RI melalui :Email : kepaniteraan@mahkamahagung.go.idTelp : 021-384 3348 (ext.318)Halaman 2Mahkamah Agung Republik IndonesiaMahkamah Agung Republik IndonesiaMahkamah Agung Republik IndonesiaMahkamah Agung Republik IndonesiaMahkamah Agung Republik IndonesiaDirektori Putusan Mahkamah Agung Republik Indonesiaputusan.mahkamahagung.go.idDisclaimerKepaniteraan Mahkamah Agung Republik Indonesia berusaha untuk selalu mencantumkan informasi paling kini dan akurat sebagai bentuk komitmen Mahkamah Agung untuk pelayanan publik, transparansi dan akuntabilitas pelaksanaan fungsi peradilan. Namun dalam hal-hal tertentu masih dimungkinkan terjadi permasalahan teknis terkait dengan akurasi dan keterkinian informasi yang kami sajikan, hal mana akan terus kami perbaiki dari waktu kewaktu.Dalam hal Anda menemukan inakurasi informasi yang termuat pada situs ini atau informasi yang seharusnya ada, namun belum tersedia, maka harap segera hubungi Kepaniteraan Mahkamah Agung RI melalui :Email : kepaniteraan@mahkamahagung.go.idTelp : 021-384 3348 (ext.318)Halaman 3Mahkamah Agung Republik IndonesiaMahkamah Agung Republik IndonesiaMahkamah Agung Republik IndonesiaMahkamah Agung Republik IndonesiaMahkamah Agung Republik IndonesiaDirektori Putusan Mahkamah Agung Republik Indonesiaputusan.mahkamahagung.go.idDisclaimerKepaniteraan Mahkamah Agung Republik Indonesia berusaha untuk selalu mencantumkan informasi paling kini dan akurat sebagai bentuk komitmen Mahkamah Agung untuk pelayanan publik, transparansi dan akuntabilitas pelaksanaan fungsi peradilan. Namun dalam hal-hal tertentu masih dimungkinkan terjadi permasalahan teknis terkait dengan akurasi dan keterkinian informasi yang kami sajikan, hal mana akan terus kami perbaiki dari waktu kewaktu.Dalam hal Anda menemukan inakurasi informasi yang termuat pada situs ini atau informasi yang seharusnya ada, namun belum tersedia, maka harap segera hubungi Kepaniteraan Mahkamah Agung RI melalui :Email : kepaniteraan@mahkamahagung.go.idTelp : 021-384 3348 (ext.318)Halaman 4Mahkamah Agung Republik IndonesiaMahkamah Agung Republik IndonesiaMahkamah Agung Republik IndonesiaMahkamah Agung Republik IndonesiaMahkamah Agung Republik IndonesiaDirektori Putusan Mahkamah Agung Republik Indonesiaputusan.mahkamahagung.go.idDisclaimerKepaniteraan Mahkamah Agung Republik Indonesia berusaha untuk selalu mencantumkan informasi paling kini dan akurat sebagai bentuk komitmen Mahkamah Agung untuk pelayanan publik, transparansi dan akuntabilitas pelaksanaan fungsi peradilan. Namun dalam hal-hal tertentu masih dimungkinkan terjadi permasalahan teknis terkait dengan akurasi dan keterkinian informasi yang kami sajikan, hal mana akan terus kami perbaiki dari waktu kewaktu.Dalam hal Anda menemukan inakurasi informasi yang termuat pada situs ini atau informasi yang seharusnya ada, namun belum tersedia, maka harap segera hubungi Kepaniteraan Mahkamah Agung RI melalui :Email : kepaniteraan@mahkamahagung.go.idTelp : 021-384 3348 (ext.318)Halaman 5Mahkamah Agung Republik IndonesiaMahkamah Agung Republik IndonesiaMahkamah Agung Republik IndonesiaMahkamah Agung Republik IndonesiaMahkamah Agung Republik IndonesiaDirektori Putusan Mahkamah Agung Republik Indonesiaputusan.mahkamahagung.go.idDisclaimerKepaniteraan Mahkamah Agung Republik Indonesia berusaha untuk selalu mencantumkan informasi paling kini dan akurat sebagai bentuk komitmen Mahkamah Agung untuk pelayanan publik, transparansi dan akuntabilitas pelaksanaan fungsi peradilan. Namun dalam hal-hal tertentu masih dimungkinkan terjadi permasalahan teknis terkait dengan akurasi dan keterkinian informasi yang kami sajikan, hal mana akan terus kami perbaiki dari waktu kewaktu.Dalam hal Anda menemukan inakurasi informasi yang termuat pada situs ini atau informasi yang seharusnya ada, namun belum tersedia, maka harap segera hubungi Kepaniteraan Mahkamah Agung RI melalui :Email : kepaniteraan@mahkamahagung.go.idTelp : 021-384 3348 (ext.318)Halaman 6Mahkamah Agung Republik IndonesiaMahkamah Agung Republik IndonesiaMahkamah Agung Republik IndonesiaMahkamah Agung Republik IndonesiaMahkamah Agung Republik IndonesiaDirektori Putusan Mahkamah Agung Republik Indonesiaputusan.mahkamahagung.go.idDisclaimerKepaniteraan Mahkamah Agung Republik Indonesia berusaha untuk selalu mencantumkan informasi paling kini dan akurat sebagai bentuk komitmen Mahkamah Agung untuk pelayanan publik, transparansi dan akuntabilitas pelaksanaan fungsi peradilan. Namun dalam hal-hal tertentu masih dimungkinkan terjadi permasalahan teknis terkait dengan akurasi dan keterkinian informasi yang kami sajikan, hal mana akan terus kami perbaiki dari waktu kewaktu.Dalam hal Anda menemukan inakurasi informasi yang termuat pada situs ini atau informasi yang seharusnya ada, namun belum tersedia, maka harap segera hubungi Kepaniteraan Mahkamah Agung RI melalui :Email : kepaniteraan@mahkamahagung.go.idTelp : 021-384 3348 (ext.318)Halaman 7Mahkamah Agung Republik IndonesiaMahkamah Agung Republik IndonesiaMahkamah Agung Republik IndonesiaMahkamah Agung Republik IndonesiaMahkamah Agung Republik IndonesiaDirektori Putusan Mahkamah Agung Republik Indonesiaputusan.mahkamahagung.go.idDisclaimerKepaniteraan Mahkamah Agung Republik Indonesia berusaha untuk selalu mencantumkan informasi paling kini dan akurat sebagai bentuk komitmen Mahkamah Agung untuk pelayanan publik, transparansi dan akuntabilitas pelaksanaan fungsi peradilan. Namun dalam hal-hal tertentu masih dimungkinkan terjadi permasalahan teknis terkait dengan akurasi dan keterkinian informasi yang kami sajikan, hal mana akan terus kami perbaiki dari waktu kewaktu.Dalam hal Anda menemukan inakurasi informasi yang termuat pada situs ini atau informasi yang seharusnya ada, namun belum tersedia, maka harap segera hubungi Kepaniteraan Mahkamah Agung RI melalui :Email : kepaniteraan@mahkamahagung.go.idTelp : 021-384 3348 (ext.318)Halaman 8Mahkamah Agung Republik IndonesiaMahkamah Agung Republik IndonesiaMahkamah Agung Republik IndonesiaMahkamah Agung Republik IndonesiaMahkamah Agung Republik IndonesiaDirektori Putusan Mahkamah Agung Republik Indonesiaputusan.mahkamahagung.go.idDisclaimerKepaniteraan Mahkamah Agung Republik Indonesia berusaha untuk selalu mencantumkan informasi paling kini dan akurat sebagai bentuk komitmen Mahkamah Agung untuk pelayanan publik, transparansi dan akuntabilitas pelaksanaan fungsi peradilan. Namun dalam hal-hal tertentu masih dimungkinkan terjadi permasalahan teknis terkait dengan akurasi dan keterkinian informasi yang kami sajikan, hal mana akan terus kami perbaiki dari waktu kewaktu.Dalam hal Anda menemukan inakurasi informasi yang termuat pada situs ini atau informasi yang seharusnya ada, namun belum tersedia, maka harap segera hubungi Kepaniteraan Mahkamah Agung RI melalui :Email : kepaniteraan@mahkamahagung.go.idTelp : 021-384 3348 (ext.318)Halaman 9Mahkamah Agung Republik IndonesiaMahkamah Agung Republik IndonesiaMahkamah Agung Republik IndonesiaMahkamah Agung Republik IndonesiaMahkamah Agung Republik IndonesiaDirektori Putusan Mahkamah Agung Republik Indonesiaputusan.mahkamahagung.go.idDisclaimerKepaniteraan Mahkamah Agung Republik Indonesia berusaha untuk selalu mencantumkan informasi paling kini dan akurat sebagai bentuk komitmen Mahkamah Agung untuk pelayanan publik, transparansi dan akuntabilitas pelaksanaan fungsi peradilan. Namun dalam hal-hal tertentu masih dimungkinkan terjadi permasalahan teknis terkait dengan akurasi dan keterkinian informasi yang kami sajikan, hal mana akan terus kami perbaiki dari waktu kewaktu.Dalam hal Anda menemukan inakurasi informasi yang termuat pada situs ini atau informasi yang seharusnya ada, namun belum tersedia, maka harap segera hubungi Kepaniteraan Mahkamah Agung RI melalui :Email : kepaniteraan@mahkamahagung.go.idTelp : 021-384 3348 (ext.318)Halaman 10\n"
     ]
    }
   ],
   "source": [
    "print(pdfText)"
   ]
  },
  {
   "cell_type": "code",
   "execution_count": 2,
   "metadata": {},
   "outputs": [],
   "source": [
    "from io import StringIO\n",
    "from pdfminer.pdfinterp import PDFResourceManager, PDFPageInterpreter\n",
    "from pdfminer.converter import TextConverter\n",
    "from pdfminer.layout import LAParams\n",
    "from pdfminer.pdfpage import PDFPage\n",
    "import os\n",
    "import sys, getopt"
   ]
  },
  {
   "cell_type": "code",
   "execution_count": 3,
   "metadata": {},
   "outputs": [],
   "source": [
    "def convert(fname, pages=None):\n",
    "    if not pages:\n",
    "        pagenums = set()\n",
    "    else:\n",
    "        pagenums = set(pages)\n",
    "\n",
    "    output = StringIO()\n",
    "    manager = PDFResourceManager()\n",
    "    converter = TextConverter(manager, output, laparams=LAParams())\n",
    "    interpreter = PDFPageInterpreter(manager, converter)\n",
    "\n",
    "    infile = open(fname, 'rb')\n",
    "    for page in PDFPage.get_pages(infile, pagenums):\n",
    "        interpreter.process_page(page)\n",
    "    infile.close()\n",
    "    converter.close()\n",
    "    text = output.getvalue()\n",
    "    output.close\n",
    "    return text "
   ]
  },
  {
   "cell_type": "code",
   "execution_count": 4,
   "metadata": {},
   "outputs": [
    {
     "name": "stdout",
     "output_type": "stream",
     "text": [
      "1495_k_2018.pdf\n",
      "F:\\Ta\\1495_k_2018.pdf\n",
      "2043_K-Pdt-2018.pdf\n",
      "F:\\Ta\\2043_K-Pdt-2018.pdf\n",
      "714_PK_2018_ZR-IBR-SLT_PP_NLP_TIO.pdf\n",
      "F:\\Ta\\714_PK_2018_ZR-IBR-SLT_PP_NLP_TIO.pdf\n",
      "KPPBAR.pdf\n",
      "F:\\Ta\\KPPBAR.pdf\n"
     ]
    },
    {
     "ename": "UnicodeEncodeError",
     "evalue": "'charmap' codec can't encode character '\\uf02d' in position 11920: character maps to <undefined>",
     "output_type": "error",
     "traceback": [
      "\u001b[1;31m---------------------------------------------------------------------------\u001b[0m",
      "\u001b[1;31mUnicodeEncodeError\u001b[0m                        Traceback (most recent call last)",
      "\u001b[1;32m<ipython-input-4-75e2f8cbf278>\u001b[0m in \u001b[0;36m<module>\u001b[1;34m\u001b[0m\n\u001b[0;32m     10\u001b[0m         \u001b[0mtextFilename\u001b[0m \u001b[1;33m=\u001b[0m \u001b[0mpdf\u001b[0m \u001b[1;33m+\u001b[0m \u001b[1;34m\".txt\"\u001b[0m\u001b[1;33m\u001b[0m\u001b[1;33m\u001b[0m\u001b[0m\n\u001b[0;32m     11\u001b[0m         \u001b[0mtextFile\u001b[0m \u001b[1;33m=\u001b[0m \u001b[0mopen\u001b[0m\u001b[1;33m(\u001b[0m\u001b[0mtextFilename\u001b[0m\u001b[1;33m,\u001b[0m \u001b[1;34m\"w\"\u001b[0m\u001b[1;33m)\u001b[0m \u001b[1;31m#make text file\u001b[0m\u001b[1;33m\u001b[0m\u001b[1;33m\u001b[0m\u001b[0m\n\u001b[1;32m---> 12\u001b[1;33m         \u001b[0mtextFile\u001b[0m\u001b[1;33m.\u001b[0m\u001b[0mwrite\u001b[0m\u001b[1;33m(\u001b[0m\u001b[0mtext\u001b[0m\u001b[1;33m)\u001b[0m \u001b[1;31m#write text to text file\u001b[0m\u001b[1;33m\u001b[0m\u001b[1;33m\u001b[0m\u001b[0m\n\u001b[0m\u001b[0;32m     13\u001b[0m \u001b[1;33m\u001b[0m\u001b[0m\n\u001b[0;32m     14\u001b[0m \u001b[1;31m# pdfDir = \"C:/pdftotxt/pdfs/\"\u001b[0m\u001b[1;33m\u001b[0m\u001b[1;33m\u001b[0m\u001b[1;33m\u001b[0m\u001b[0m\n",
      "\u001b[1;32m~\\AppData\\Local\\Continuum\\anaconda3\\envs\\ta\\lib\\encodings\\cp1252.py\u001b[0m in \u001b[0;36mencode\u001b[1;34m(self, input, final)\u001b[0m\n\u001b[0;32m     17\u001b[0m \u001b[1;32mclass\u001b[0m \u001b[0mIncrementalEncoder\u001b[0m\u001b[1;33m(\u001b[0m\u001b[0mcodecs\u001b[0m\u001b[1;33m.\u001b[0m\u001b[0mIncrementalEncoder\u001b[0m\u001b[1;33m)\u001b[0m\u001b[1;33m:\u001b[0m\u001b[1;33m\u001b[0m\u001b[1;33m\u001b[0m\u001b[0m\n\u001b[0;32m     18\u001b[0m     \u001b[1;32mdef\u001b[0m \u001b[0mencode\u001b[0m\u001b[1;33m(\u001b[0m\u001b[0mself\u001b[0m\u001b[1;33m,\u001b[0m \u001b[0minput\u001b[0m\u001b[1;33m,\u001b[0m \u001b[0mfinal\u001b[0m\u001b[1;33m=\u001b[0m\u001b[1;32mFalse\u001b[0m\u001b[1;33m)\u001b[0m\u001b[1;33m:\u001b[0m\u001b[1;33m\u001b[0m\u001b[1;33m\u001b[0m\u001b[0m\n\u001b[1;32m---> 19\u001b[1;33m         \u001b[1;32mreturn\u001b[0m \u001b[0mcodecs\u001b[0m\u001b[1;33m.\u001b[0m\u001b[0mcharmap_encode\u001b[0m\u001b[1;33m(\u001b[0m\u001b[0minput\u001b[0m\u001b[1;33m,\u001b[0m\u001b[0mself\u001b[0m\u001b[1;33m.\u001b[0m\u001b[0merrors\u001b[0m\u001b[1;33m,\u001b[0m\u001b[0mencoding_table\u001b[0m\u001b[1;33m)\u001b[0m\u001b[1;33m[\u001b[0m\u001b[1;36m0\u001b[0m\u001b[1;33m]\u001b[0m\u001b[1;33m\u001b[0m\u001b[1;33m\u001b[0m\u001b[0m\n\u001b[0m\u001b[0;32m     20\u001b[0m \u001b[1;33m\u001b[0m\u001b[0m\n\u001b[0;32m     21\u001b[0m \u001b[1;32mclass\u001b[0m \u001b[0mIncrementalDecoder\u001b[0m\u001b[1;33m(\u001b[0m\u001b[0mcodecs\u001b[0m\u001b[1;33m.\u001b[0m\u001b[0mIncrementalDecoder\u001b[0m\u001b[1;33m)\u001b[0m\u001b[1;33m:\u001b[0m\u001b[1;33m\u001b[0m\u001b[1;33m\u001b[0m\u001b[0m\n",
      "\u001b[1;31mUnicodeEncodeError\u001b[0m: 'charmap' codec can't encode character '\\uf02d' in position 11920: character maps to <undefined>"
     ]
    }
   ],
   "source": [
    "pdfDir = os.getcwd() + \"\\\\\" #if no pdfDir passed in \n",
    "for pdf in os.listdir(pdfDir): #iterate through pdfs in pdf directory\n",
    "    #print(pdf)\n",
    "    fileExtension = pdf.split(\".\")[-1]\n",
    "    if fileExtension == \"pdf\":\n",
    "        print(pdf)\n",
    "        pdfFilename = pdfDir + pdf\n",
    "        print(pdfFilename)\n",
    "        text = convert(pdfFilename) #get string of text content of pdf\n",
    "        textFilename = pdf + \".txt\"\n",
    "        textFile = open(textFilename, \"w\") #make text file\n",
    "        textFile.write(text) #write text to text file\n",
    "\n",
    "# pdfDir = \"C:/pdftotxt/pdfs/\"\n",
    "# txtDir = \"C:/pdftotxt/txt/\"\n",
    "# convertMultiple(pdfDir, txtDir)"
   ]
  },
  {
   "cell_type": "code",
   "execution_count": 5,
   "metadata": {},
   "outputs": [],
   "source": [
    "from pdfminer.pdfinterp import PDFResourceManager, PDFPageInterpreter\n",
    "from pdfminer.converter import TextConverter\n",
    "from pdfminer.layout import LAParams\n",
    "from pdfminer.pdfpage import PDFPage\n",
    "from io import StringIO\n",
    "\n",
    "def convert_pdf_to_txt(path):\n",
    "    rsrcmgr = PDFResourceManager()\n",
    "    retstr = StringIO()\n",
    "    codec = 'utf-8'\n",
    "    laparams = LAParams()\n",
    "    device = TextConverter(rsrcmgr, retstr, codec=codec, laparams=laparams)\n",
    "    fp = open(path, 'rb')\n",
    "    interpreter = PDFPageInterpreter(rsrcmgr, device)\n",
    "    password = \"\"\n",
    "    maxpages = 0\n",
    "    caching = True\n",
    "    pagenos=set()\n",
    "\n",
    "    for page in PDFPage.get_pages(fp, pagenos, maxpages=maxpages, password=password,caching=caching, check_extractable=True):\n",
    "        interpreter.process_page(page)\n",
    "\n",
    "    text = retstr.getvalue()\n",
    "\n",
    "    fp.close()\n",
    "    device.close()\n",
    "    retstr.close()\n",
    "    return text"
   ]
  },
  {
   "cell_type": "code",
   "execution_count": 8,
   "metadata": {},
   "outputs": [
    {
     "data": {
      "text/plain": [
       "'Direktori Putusan Mahkamah Agung Republik Indonesia\\nputusan.mahkamahagung.go.id\\n\\nM ahka m ah Agung Republik Indonesia\\nM ahka m ah Agung Republik Indonesia\\nM ahka m ah Agung Republik Indonesia\\nM ahka m ah Agung Republik Indonesia\\nM ahka m ah Agung Republik Indonesia\\n\\nDisclaimer\\nKepaniteraan Mahkamah Agung Republik Indonesia berusaha untuk selalu mencantumkan informasi paling kini dan akurat sebagai bentuk komitmen Mahkamah Agung untuk pelayanan publik, transparansi dan akuntabilitas pelaksanaan fungsi peradilan. Namun dalam hal-hal tertentu masih dimungkinkan terjadi permasalahan teknis terkait dengan akurasi dan keterkinian informasi yang kami sajikan, hal mana akan terus kami perbaiki dari waktu kewaktu.\\nDalam hal Anda menemukan inakurasi informasi yang termuat pada situs ini atau informasi yang seharusnya ada, namun belum tersedia, maka harap segera hubungi Kepaniteraan Mahkamah Agung RI melalui :\\nEmail : kepaniteraan@mahkamahagung.go.id\\nTelp : 021-384 3348 (ext.318)\\n\\nHalaman 1\\n\\nHalaman1dari10hal. Put. Nomor714PK/Pdt/2018.P U T U S A NNomor714PK/Pdt/2018DEMI KEADILAN BERDASARKAN KETUHANAN YANG MAHA ESAM A H K A M A HA G U N Gmemeriksa perkara perdatapadapemeriksaan peninjauan kembali telahmemutussebagai berikut dalam perkara:1.WARSINIbintiNAWIDJO,bertempat tinggal di Jalan DIPanjaitan Nomor 152,RT 31, Kelurahan Sumber Rejo,Kecamatan Balikpapan Tengah, Kota Balikpapan;2.PUJIATIbintiNAWIDJO,bertempat tinggal di Jalan REMartadinata Nomor 117,RT 019, Kelurahan Mekar Sari,Kecamatan BalikpapanTengah, Kota Balikpapan;3.JUMIATIbintiNAWIDJO,bertempat tinggal di Jalan DIPanjaitan Nomor 01,RT 031, Kelurahan SumberRejo,Kecamatan Balikpapan Tengah, Kota Balikpapan;4.SUPYANTObinNAWIDJO,bertempat tinggal di Jalan DIPanjaitan Nomor 11,RT 031,Kelurahan Sumber Rejo,Kecamatan Balikpapan Tengah, Kota Balikpapan;5.MARIYATI/istri almarhumAGUS SUDJITObinNAWIDJO,bertempat tinggal di Jalan DI Panjaitan Nomor 5,RT 047,Kelurahan Sumber Rejo, Kecamatan Balikpapan Tengah;6.LIAMA/istri almarhumWAKIDIbinNAWIDJO,bertempattinggal di Jalan RE Martadinata Nomor 77,RT 18,KelurahanMekar Sari, Kecamatan Balikpapan Tengah, Kota Balikpapan,kesemuanya dalam hal ini memberi kuasa kepada:H.Sulaiman, S.H., M.H., dan kawan,Para Advokat pada KantorPengacara Dan Konsultasi HukumH. Sulaiman, S.H., M.H.,& Rekan, beralamat di Jalan Inpres IV,RT 12,Nomor 5,Kelurahan Muara Rapak, Kecamatan Balikpapan Utara,Balikpapan, berdasarkan Surat Kuasa Khusus tanggal 7Desember 2017;ParaPemohon Peninjauan Kembali;\\x0cDirektori Putusan Mahkamah Agung Republik Indonesia\\nputusan.mahkamahagung.go.id\\n\\nM ahka m ah Agung Republik Indonesia\\nM ahka m ah Agung Republik Indonesia\\nM ahka m ah Agung Republik Indonesia\\nM ahka m ah Agung Republik Indonesia\\nM ahka m ah Agung Republik Indonesia\\n\\nDisclaimer\\nKepaniteraan Mahkamah Agung Republik Indonesia berusaha untuk selalu mencantumkan informasi paling kini dan akurat sebagai bentuk komitmen Mahkamah Agung untuk pelayanan publik, transparansi dan akuntabilitas pelaksanaan fungsi peradilan. Namun dalam hal-hal tertentu masih dimungkinkan terjadi permasalahan teknis terkait dengan akurasi dan keterkinian informasi yang kami sajikan, hal mana akan terus kami perbaiki dari waktu kewaktu.\\nDalam hal Anda menemukan inakurasi informasi yang termuat pada situs ini atau informasi yang seharusnya ada, namun belum tersedia, maka harap segera hubungi Kepaniteraan Mahkamah Agung RI melalui :\\nEmail : kepaniteraan@mahkamahagung.go.id\\nTelp : 021-384 3348 (ext.318)\\n\\nHalaman 2\\n\\nHalaman2dari10hal. Put. Nomor714PK/Pdt/2018.L a w a n:1.BUSTANI,bertempat tinggal dahulu diKampongDamai,Kecamatan Balikpapan Tengah, dan sekarang tidakdiketahui lagi alamatnya secara pasti baik di dalam maupundi luar wilayah Indonesia;2.THAMRIN,bertempat tinggal dahulu di Jalan KakapNomor03,Samarinda, dan sekarang tidak diketahui lagi alamatnyasecara pasti baik di dalam maupun di luar wilayah Indonesia,dalam hal ini memberi kuasa kepada Drs. H. Aswat, S.H.,Advokat, beralamat di Jalan Wolter Monginsidi, RT 22,Nomor 35, KelurahanBaru Ulu, Balikpapan Barat, KotaBalikpapan, berdasarkan Surat Kuasa Khusus masing-masing tanggal 31 Oktober 2014;3.DJUWADI,bertempat  tinggal diJalan Beller,RT39,Nomor56, Kelurahan Damai, Kecamatan BalikpapanSelatan, KotaBalikpapan;4.ANTON GUNAWAN,bertempattinggal di JalanJenderal AYani,RT054,Nomor199, Kelurahan Gunung Sari Ulu,Kecamatan Balikpapan Kota, Kota Balikpapan,TermohonPeninjauan Kembali IIIdanIVdalam hal ini memberi kuasakepada:Bambang Wijanarko, S.H., M.H., dan kawan, ParaAdvokat padaKantor HukumBambang Wijanarko, S.H.,  &Associates, beralamat di JalanJend. Sudirman, BalikpapanSuper Blok/BSB,Blok A,Nomor 16, Kelurahan Damai,Balikpapan Selatan, Kota Balikpapan, berdasarkan SuratKuasa Khususmasing-masingtanggal 5Maret 2018;5.PEMERINTAH RIcqBADAN PERTANAHAN NASIONALPUSAT JAKARTAcqKEPALA KANTOR WILAYAHBADAN PERTANAHAN PROVINSI KALIMANTAN TIMURDI SAMARINDAcqKEPALA KANTOR PERTANAHANKOTA BALIKPAPAN,yang diwakili oleh Didik BangunRestuaji, S.H.,berkedudukandiJalanMarsma R.Iswahyudi\\x0cDirektori Putusan Mahkamah Agung Republik Indonesia\\nputusan.mahkamahagung.go.id\\n\\nM ahka m ah Agung Republik Indonesia\\nM ahka m ah Agung Republik Indonesia\\nM ahka m ah Agung Republik Indonesia\\nM ahka m ah Agung Republik Indonesia\\nM ahka m ah Agung Republik Indonesia\\n\\nDisclaimer\\nKepaniteraan Mahkamah Agung Republik Indonesia berusaha untuk selalu mencantumkan informasi paling kini dan akurat sebagai bentuk komitmen Mahkamah Agung untuk pelayanan publik, transparansi dan akuntabilitas pelaksanaan fungsi peradilan. Namun dalam hal-hal tertentu masih dimungkinkan terjadi permasalahan teknis terkait dengan akurasi dan keterkinian informasi yang kami sajikan, hal mana akan terus kami perbaiki dari waktu kewaktu.\\nDalam hal Anda menemukan inakurasi informasi yang termuat pada situs ini atau informasi yang seharusnya ada, namun belum tersedia, maka harap segera hubungi Kepaniteraan Mahkamah Agung RI melalui :\\nEmail : kepaniteraan@mahkamahagung.go.id\\nTelp : 021-384 3348 (ext.318)\\n\\nHalaman 3\\n\\nHalaman3dari10hal. Put. Nomor714PK/Pdt/2018.Nomor40,Balikpapan, dalam hal ini memberi kuasakepada:Ahmad Syafruddin, S.H., Kepala Seksi Sengketa,Konflik dan Perkara dan kawan-kawan, pada KantorPertanahan Kota Balikpapan beralamat di Jalan Marsma R.Iswahyudi Nomor 40, Balikpapan, berdasarkan Surat KuasaKhusus tanggal 28 Mei 2014;ParaTermohon Peninjauan Kembali;Mahkamah Agung tersebut;Membaca surat-surat yang bersangkutan yang merupakan bagiantidakterpisahkan dari putusan ini;Menimbang, bahwa berdasarkan surat-surat yang bersangkutan,ParaPenggugat dalamgugatannyamemohon kepada PengadilanNegeriBalikpapanuntuk memberikan putusan sebagai berikut:Dalam Provisi:-Menyatakan melarang Tergugat I, Tergugat II, Tergugat III, Tergugat IVuntuk melakukan segala sesuatu kegiatan diatas tanah sengketa termasukmelarang untuk membangun bangunan diatas tanah sengketa tanpa seijinPara Penggugat sebagai pemilik tanah yang sah;Dalam Pokok Perkara:1.Mengabulkan gugatan Para Penggugat untuk seluruhnya;2.Menyatakan bahwa Para Penggugat (Penggugat I, Penggugat II, PenggugatIII, Penggugat IV, Penggugat V dan Penggugat VI) adalah para ahli warisdari Nawidjo;3.Menyatakan semula almarhum Nawidjo (orang tua) Para Penggugat adamemiliki tanah perwatasan berdasarkan Surat Pernyataan MempunyaiSebidang Tanah/Kebun tanggal 7Juli 1985yang dulu terletak diLingkunganRTXVIII C (Jalan Ring Road),Gn. Guntur,Kampung Damai, KelurahanGunung Sari Ulu, Kecamatan Balikpapan Utara,Kotamadya Daerah TingkatII Balikpapansekarang terletak di Jalan Beller,RT48, Kelurahan SumberRejo, Kecamatan Balikpapan Tengah, Kota Balikpapandengan luas tanah9.900m2dengan ukuran panjang 110m, danlebar90m, dengan batasbatas sebagai berikut:\\x0cDirektori Putusan Mahkamah Agung Republik Indonesia\\nputusan.mahkamahagung.go.id\\n\\nM ahka m ah Agung Republik Indonesia\\nM ahka m ah Agung Republik Indonesia\\nM ahka m ah Agung Republik Indonesia\\nM ahka m ah Agung Republik Indonesia\\nM ahka m ah Agung Republik Indonesia\\n\\nDisclaimer\\nKepaniteraan Mahkamah Agung Republik Indonesia berusaha untuk selalu mencantumkan informasi paling kini dan akurat sebagai bentuk komitmen Mahkamah Agung untuk pelayanan publik, transparansi dan akuntabilitas pelaksanaan fungsi peradilan. Namun dalam hal-hal tertentu masih dimungkinkan terjadi permasalahan teknis terkait dengan akurasi dan keterkinian informasi yang kami sajikan, hal mana akan terus kami perbaiki dari waktu kewaktu.\\nDalam hal Anda menemukan inakurasi informasi yang termuat pada situs ini atau informasi yang seharusnya ada, namun belum tersedia, maka harap segera hubungi Kepaniteraan Mahkamah Agung RI melalui :\\nEmail : kepaniteraan@mahkamahagung.go.id\\nTelp : 021-384 3348 (ext.318)\\n\\nHalaman 4\\n\\nHalaman4dari10hal. Put. Nomor714PK/Pdt/2018.-Sebelah Utara berbatas denganperwatasan saudaraKatimin;-Sebelah Timur berbatas dengan Sungai;-Sebelah Barat berbatas dengan perwatasansaudaraKim Suharni;-Sebelah Selatan berbatas dengan Jalan Ring Road;4.Menyatakan sah dan berhargamenurut hukum Surat PernyataanMempunyai Sebidang Tanah/Kebun tanggal 7 Juli 1985;5.Menyatakanbahwa Para Penggugat selakuparaahli waris Nawidjo adalahsebagai pemilik sah atas sisa tanah sengketa yang sekarang terletak diJalan Beller,RT 48, Kelurahan Sumber Rejo, Kecamatan BalikpapanTengah, yang luasnya  ± 4.000 m2dengan ukuranpanjang±80mdanlebar±50mdan atau dengan ukuran:-Panjang sebelah Timur 103.31m, panjang sebelah Barat 61.12mdan45.39m;-Danlebarsebelah Selatan depan Jalan Beller 27.52m, 11m, 8.19mdan 3.79m, danlebarsebelah Utara dibelakang 9.23mdan 24.4m,sesuai dengan gambar peta bidang diukur pada tanggal 27 Desember2013 yang terletak dahulu diLingkunganRTXVIII C (Jalan RingRoad),Gn.Guntur,Kampung Damai, Kelurahan Gunung Sari Ulu,Kecamatan Balikpapan Utara, Kotamadya Daerah Tingkat II Balikpapan,sekarang terletak di Jalan Beller,RT 48,Kelurahan Sumber Rejo,Kecamatan Balikpapan Tengah, Kota Balikpapan, dengan batas-batassebagai berikut:-Sebelah Utara dulu berbatas dengan H. Sutomo sekarang denganAnton Gunawan;-Sebelah Selatan berbatas dengan Jalan Beller(GunungDamai);-Sebelah Timurberbatas dengantanah kosong/sungai;-Sebelah Barat dulu berbatas dengan Tulus/Joni Luntungan, sekarangdengan Anton Gunawan;6.Menyatakan tidak sahSurat Keterangan Pelepasan Hakantara Bustanidengan Thamrin tanggal 22 November 1984 danSurat Pernyataantanggal 25 November 1984 sebagai dasarSertifikatHak GunaBangunanNomor582/Kelurahan Sumber Rejo;\\x0cDirektori Putusan Mahkamah Agung Republik Indonesia\\nputusan.mahkamahagung.go.id\\n\\nM ahka m ah Agung Republik Indonesia\\nM ahka m ah Agung Republik Indonesia\\nM ahka m ah Agung Republik Indonesia\\nM ahka m ah Agung Republik Indonesia\\nM ahka m ah Agung Republik Indonesia\\n\\nDisclaimer\\nKepaniteraan Mahkamah Agung Republik Indonesia berusaha untuk selalu mencantumkan informasi paling kini dan akurat sebagai bentuk komitmen Mahkamah Agung untuk pelayanan publik, transparansi dan akuntabilitas pelaksanaan fungsi peradilan. Namun dalam hal-hal tertentu masih dimungkinkan terjadi permasalahan teknis terkait dengan akurasi dan keterkinian informasi yang kami sajikan, hal mana akan terus kami perbaiki dari waktu kewaktu.\\nDalam hal Anda menemukan inakurasi informasi yang termuat pada situs ini atau informasi yang seharusnya ada, namun belum tersedia, maka harap segera hubungi Kepaniteraan Mahkamah Agung RI melalui :\\nEmail : kepaniteraan@mahkamahagung.go.id\\nTelp : 021-384 3348 (ext.318)\\n\\nHalaman 5\\n\\nHalaman5dari10hal. Put. Nomor714PK/Pdt/2018.7.Menyatakan Tergugat I, Tergugat II, Tergugat III,  Tergugat  IV tidakberhak atas tanah sengketa;8.Menyatakan jual beli antara Tergugat I dengan Tergugat II, III, IV  adalahtidak sah dan batal demi hukum;9.MenyatakanSertifikat Hak Guna BangunanNomor582/Kelurahan SumberRejo  adalah tidak mempunyai kekuatan hukum dan batal demi hukum;10.Menyatakan perbuatan dan tindakan Tergugat I, Tergugat II, Tergugat III,Tergugat IV adalah suatu perbuatan melawan hukum(onrechtmatigedaad)karena ingin menguasai, mengakui, menyerobot tanah milik ParaPenggugat tanpa hak;11.Menyatakan tindakan Tergugat Vyang menerbitkanSertifikat Hak GunaBangunanNomor582/Kelurahan Sumber Rejo adalah suatu perbuatanmelawan hukum oleh penguasa(onrechtmatige overheiddaad), karenamenerbitkan sertifikat atas nama Tergugat II, kemudian ke atas namaTergugat III dan kepada Tergugat IV diatas tanah milik Para Penggugat;12.Menghukum Tergugat I , Tergugat II, Tergugat III, Tergugat IV dan atausiapa saja yang mendapatkan hak darinya  untuk segera mengosongkandan menyerahkan tanah perwatasan milik Para Penggugat tersebutdalam keadaan kosong kepada Para Penggugat tanpa beban apapun;13.Menyatakan sah dan berharga sita jaminan yang dilakukan oleh PengadilanNegeri Balikpapan;14.Menghukum Para Tergugat I, Tergugat II, Tergugat III, Tergugat IV,Tergugat V untuk mentaati semua isiputusan Pengadilan;15.Menyatakan keputusan ini dapat dijalankan terlebih dahulu walaupun adaupayabanding, kasasi maupunverzet;16.Menghukum Tergugat I , Tergugat II, Tergugat III, Tergugat IV, TergugatV untuk membayar biaya perkara ini;Menimbang, bahwa terhadap gugatan tersebut TergugatIIImengajukaneksepsiyang pada pokoknyaadalah:-Pembeli yang beriktikad baik;-Tergugat III sebagai mata rantai ketiga dari kepemilikan objek sengketa;-Validasi ahli waris;\\x0cDirektori Putusan Mahkamah Agung Republik Indonesia\\nputusan.mahkamahagung.go.id\\n\\nM ahka m ah Agung Republik Indonesia\\nM ahka m ah Agung Republik Indonesia\\nM ahka m ah Agung Republik Indonesia\\nM ahka m ah Agung Republik Indonesia\\nM ahka m ah Agung Republik Indonesia\\n\\nDisclaimer\\nKepaniteraan Mahkamah Agung Republik Indonesia berusaha untuk selalu mencantumkan informasi paling kini dan akurat sebagai bentuk komitmen Mahkamah Agung untuk pelayanan publik, transparansi dan akuntabilitas pelaksanaan fungsi peradilan. Namun dalam hal-hal tertentu masih dimungkinkan terjadi permasalahan teknis terkait dengan akurasi dan keterkinian informasi yang kami sajikan, hal mana akan terus kami perbaiki dari waktu kewaktu.\\nDalam hal Anda menemukan inakurasi informasi yang termuat pada situs ini atau informasi yang seharusnya ada, namun belum tersedia, maka harap segera hubungi Kepaniteraan Mahkamah Agung RI melalui :\\nEmail : kepaniteraan@mahkamahagung.go.id\\nTelp : 021-384 3348 (ext.318)\\n\\nHalaman 6\\n\\nHalaman6dari10hal. Put. Nomor714PK/Pdt/2018.-Gugatan kabur (obscuur liebel);-Kompetensi absolut Pengadilan Tata Usaha Negara;Menimbang, bahwa terhadap gugatan tersebut Tergugat IVmengajukan eksepsi yang pada pokoknyaadalah:-Pembeli yang beriktikad baik;-Tergugat III sebagai mata rantai keempat dari kepemilikan objek sengketa;-Validasi ahli waris;-Gugatan kabur (obscuur liebel);-KompetensiabsolutPengadilan Tata Usaha Negara;Menimbang, bahwa terhadap gugatan tersebut TergugatIVmengajukangugatanbalik (rekonvensi) yang dalam gugatannya memohon kepadaPengadilan NegeriBalikpapanuntuk memberikan putusan sebagai berikut:1.Mengabulkan gugatan rekonvensi Penggugat Rekonvensi seluruhnya;2.Menyatakan bahwa Para Tergugat Rekonvensi telah melakukan perbuatanmelawan hukum;3.Menyatakan bahwa Penggugat Rekonvensi IV adalah pemilik yang sahmenurut hukum atas sebidang tanah dengan Sertifikat Hak GunaBangunan Nomor 582/Kelurahan Sumber Rejotahun2011 seluas 1.177m2,yang terletak di Jalan Beller,Kelurahan Sumber Rejo,Balikpapan;4.Menghukum Para Tergugat Rekonvensi atau siapa saja yang mendapatkanhak dari padanya untuk membongkar pagar dan mengosongkan objeksengketa seketika tanpa syarat apapun;Dalam Konvensi dan Rekonvensi:-MenghukumParaPenggugat Konvensi/Para TergugatRekonvensi untukmembayar biaya perkara;Atauapabila bapak Majelis Hakim berpendapat lain mohon putusanseadil-adilnya;Menimbang, bahwa terhadap gugatan tersebut Pengadilan NegeriBalikpapantelah memberikan putusan Nomor47/Pdt.G/2014/PN Bpp.tanggal28 Januari 2015,dengan amar sebagai berikut:Dalam Provisi:-Menolak tuntutanprovisi;\\x0cDirektori Putusan Mahkamah Agung Republik Indonesia\\nputusan.mahkamahagung.go.id\\n\\nM ahka m ah Agung Republik Indonesia\\nM ahka m ah Agung Republik Indonesia\\nM ahka m ah Agung Republik Indonesia\\nM ahka m ah Agung Republik Indonesia\\nM ahka m ah Agung Republik Indonesia\\n\\nDisclaimer\\nKepaniteraan Mahkamah Agung Republik Indonesia berusaha untuk selalu mencantumkan informasi paling kini dan akurat sebagai bentuk komitmen Mahkamah Agung untuk pelayanan publik, transparansi dan akuntabilitas pelaksanaan fungsi peradilan. Namun dalam hal-hal tertentu masih dimungkinkan terjadi permasalahan teknis terkait dengan akurasi dan keterkinian informasi yang kami sajikan, hal mana akan terus kami perbaiki dari waktu kewaktu.\\nDalam hal Anda menemukan inakurasi informasi yang termuat pada situs ini atau informasi yang seharusnya ada, namun belum tersedia, maka harap segera hubungi Kepaniteraan Mahkamah Agung RI melalui :\\nEmail : kepaniteraan@mahkamahagung.go.id\\nTelp : 021-384 3348 (ext.318)\\n\\nHalaman 7\\n\\nHalaman7dari10hal. Put. Nomor714PK/Pdt/2018.Dalam Konvensi:Dalam Eksepsi:-Menolak eksepsi Tergugat III dan Tergugat IV untuk seluruhnya;Dalam Pokok Perkara:-Menolak gugatan Penggugat untuk seluruhnya;DalamRekonvensi:1.Mengabulkan gugatan Penggugat Rekonvensi/Tergugat Konvensi IVuntuk seluruhnya;2.Menyatakan bahwa Para Tergugat Rekonvensi telah melakukanperbuatan melawan hukum;3.Menyatakan Penggugat Rekonvensi/Tergugat Konvensi IV sebagaipemilik yang sah menurut hukum atas sebidang tanah sengketa denganSertifikat Hak Guna Bangunan Nomor 582/Kelurahan Sumber Rejo,Tahun 2011 seluas1.177 m2yang terletak di Jalan Beller,KelurahanSumber Rejo, Balikpapan;4.Menghukum Penggugat Konvensi/Tergugat Konvensi atau siapa sajayang mendapatkan hak dari padanya agar membongkar pagar danmenurunkan papan pengumuman  serta mengosongkan objek sengketaseketika tanpa syarat apapun;Dalam Konvensi dan Rekonvensi:-Menghukum Penggugat Konvensi/Tergugat Rekonvensi untuk membayarongkos perkara yang hingga kini ditaksir sebesar Rp4.382.000,00(empatjuta tiga ratus delapan puluh dua ribu rupiah);Kemudian putusan tersebutdikuatkanolehPengadilan TinggiSamarindadengan PutusanNomor61/PDT/2015/PTSMR.tanggal11 Juni2015, kemudian putusan tersebutdiajukan kasasi, yang atas permohonantersebut ditolakolehMahkamah Agungdengan Putusan Nomor766K/Pdt/2016tanggal28 Juni 2016;Menimbang, bahwa putusanMahkamah AgungNomor766K/Pdt/2016tanggal 28 Juni 2016yang telahmempunyai kekuatan hukumtetap tersebut diberitahukan kepadaParaPemohon PeninjauanKembalipada tanggal11 Agustus 2017kemudian terhadapnya dengan perantaraan\\x0cDirektori Putusan Mahkamah Agung Republik Indonesia\\nputusan.mahkamahagung.go.id\\n\\nM ahka m ah Agung Republik Indonesia\\nM ahka m ah Agung Republik Indonesia\\nM ahka m ah Agung Republik Indonesia\\nM ahka m ah Agung Republik Indonesia\\nM ahka m ah Agung Republik Indonesia\\n\\nDisclaimer\\nKepaniteraan Mahkamah Agung Republik Indonesia berusaha untuk selalu mencantumkan informasi paling kini dan akurat sebagai bentuk komitmen Mahkamah Agung untuk pelayanan publik, transparansi dan akuntabilitas pelaksanaan fungsi peradilan. Namun dalam hal-hal tertentu masih dimungkinkan terjadi permasalahan teknis terkait dengan akurasi dan keterkinian informasi yang kami sajikan, hal mana akan terus kami perbaiki dari waktu kewaktu.\\nDalam hal Anda menemukan inakurasi informasi yang termuat pada situs ini atau informasi yang seharusnya ada, namun belum tersedia, maka harap segera hubungi Kepaniteraan Mahkamah Agung RI melalui :\\nEmail : kepaniteraan@mahkamahagung.go.id\\nTelp : 021-384 3348 (ext.318)\\n\\nHalaman 8\\n\\nHalaman8dari10hal. Put. Nomor714PK/Pdt/2018.kuasanya,berdasarkan Surat Kuasa Khusus tanggal7 Desember 2017diajukan permohonan peninjauankembali pada tanggal7 Februari 2018sebagaimana ternyata dari Akta Pernyataan PermohonanPeninjauan KembaliNomor47/Pdt.G/2014/PN Bpp.yang dibuat oleh Panitera Pengadilan NegeriBalikpapan,permohonan tersebutdisertaidengan memori peninjauan kembaliyang memuat alasan-alasanyang diterima di Kepaniteraan Pengadilan Negeritersebut pada itujuga;Menimbang, bahwa permohonan peninjauan kembalia quobesertaalasan-alasannyatelah diberitahukan kepada pihak lawan dengan saksama,diajukan dalamtenggang waktu dan dengan cara yang ditentukan dalamUndangUndang, oleh karenaitu permohonan peninjauan kembali tersebutsecara formal dapat diterima;Menimbang bahwa berdasarkan memori peninjauan kembali yangditerima tanggal7 Februari 2018merupakan bagian tidak terpisahkan dariputusan ini,ParaPemohon PeninjauanKembali pada pokoknya mendalilkanbahwa dalam putusan ini terdapatbukti baru (novum),berupa:1.Putusan Pidana Nomor 810/Pid.Sus/2015/PN Bpp.tanggal 10Februari2016 (bukti Pemohon PK-1);2.SuratMohon Keterangantanggal 26 Januari 2018 dari Supiansah(buktiPemohon PK-2);3.Putusan PidanaNomor 810/Pid.Sus/2015/PN Bpp.tanggal 10 Februari2016 (bukti Pemohon PK-3);dan kekhilafan hakim atau kekeliruan yang nyatakemudian memohonputusan sebagai berikut:1.Menerima permohonan Para Pemohon Peninjauan Kembali;2.MembatalkanPutusan Mahkamah AgungRI Nomor 766 K/Pdt/2016tanggal 28 Juni 2016;Mengadili Kembali:1.Mengabulkan gugatan Para Penggugat Asal/Para Pemohon PeninjauanKembali seluruhnya;2.MenghukumPara Termohon Peninjauan Kembalimembayar biayaperkara yangtimbul karenanya;\\x0cDirektori Putusan Mahkamah Agung Republik Indonesia\\nputusan.mahkamahagung.go.id\\n\\nM ahka m ah Agung Republik Indonesia\\nM ahka m ah Agung Republik Indonesia\\nM ahka m ah Agung Republik Indonesia\\nM ahka m ah Agung Republik Indonesia\\nM ahka m ah Agung Republik Indonesia\\n\\nDisclaimer\\nKepaniteraan Mahkamah Agung Republik Indonesia berusaha untuk selalu mencantumkan informasi paling kini dan akurat sebagai bentuk komitmen Mahkamah Agung untuk pelayanan publik, transparansi dan akuntabilitas pelaksanaan fungsi peradilan. Namun dalam hal-hal tertentu masih dimungkinkan terjadi permasalahan teknis terkait dengan akurasi dan keterkinian informasi yang kami sajikan, hal mana akan terus kami perbaiki dari waktu kewaktu.\\nDalam hal Anda menemukan inakurasi informasi yang termuat pada situs ini atau informasi yang seharusnya ada, namun belum tersedia, maka harap segera hubungi Kepaniteraan Mahkamah Agung RI melalui :\\nEmail : kepaniteraan@mahkamahagung.go.id\\nTelp : 021-384 3348 (ext.318)\\n\\nHalaman 9\\n\\nHalaman9dari10hal. Put. Nomor714PK/Pdt/2018.Ataujika Ketua/Anggota Majelis Peninjauan Kembali yang mulia berpendapatlain, dapatlah kiranya perkara ini diperiksa dan diputus sesuai tertib acaraperadilan yang baik, benar, dan adil;Menimbang, bahwa terhadap memori peninjauan kembali tersebut,TermohonPeninjauan KembaliIII dan IVtelah mengajukan kontra memoripeninjauan kembali tanggal12 Maret 2018yang menolak permohonanpeninjauan kembali dariParaPemohon Peninjauan Kembali;Menimbang, bahwa terhadap alasan-alasan tersebut MahkamahAgungberpendapat:Bahwa alasan-alasan peninjauan kembalitersebut tidak dapatdibenarkan, oleh karenasetelah membaca dan meneliti memori peninjauankembali tanggal 7 Februari 2018 dan kontra memori peninjauan kembalitanggal 12 Maret 2018 dihubungkan dengan putusanJudex FactidanJudexJuris,novumtersebuttidak bersifat menentukan danjugatidakditemukankekhilafan Hakimdan/atausuatukekeliruan yang nyata denganpertimbangan sebagai berikut:-Bahwa pembeli terakhir yaitu Tergugat IV merupakan pembeli yangberiktikad baik, sehingga harus dilindungi;-Bahwa lagi pulaSHGBatas tanah objek sengketa sudahterbit lebih dari5 (lima) tahun/diajukan dengan iktikad baik;Menimbang, bahwa berdasarkan pertimbangan di atas, makapermohonanpeninjauan kembali yang diajukan olehParaPemohon PeninjauanKembali:WARSINI binti NAWIDJO,dan kawan-kawantersebut harusditolak;Menimbang, bahwa oleh karena permohonan peninjauan kembali dariParaPemohon Peninjauan Kembali ditolak, makaParaPemohon PeninjauanKembalidihukum untuk membayar biaya perkara dalampemeriksaanpeninjauan kembali ini;Memperhatikan UndangUndang Nomor 48 Tahun 2009 tentangKekuasaanKehakiman, UndangUndang Nomor 14 Tahun 1985 tentangMahkamah Agungsebagaimana telah diubah dan ditambah dengan UndangUndang Nomor 5 Tahun 2004dan perubahan kedua dengan UndangUndangNomor 3 Tahun 2009 sertaperaturanperundangan lain yang bersangkutan;\\x0cDirektori Putusan Mahkamah Agung Republik Indonesia\\nputusan.mahkamahagung.go.id\\n\\nM ahka m ah Agung Republik Indonesia\\nM ahka m ah Agung Republik Indonesia\\nM ahka m ah Agung Republik Indonesia\\nM ahka m ah Agung Republik Indonesia\\nM ahka m ah Agung Republik Indonesia\\n\\nDisclaimer\\nKepaniteraan Mahkamah Agung Republik Indonesia berusaha untuk selalu mencantumkan informasi paling kini dan akurat sebagai bentuk komitmen Mahkamah Agung untuk pelayanan publik, transparansi dan akuntabilitas pelaksanaan fungsi peradilan. Namun dalam hal-hal tertentu masih dimungkinkan terjadi permasalahan teknis terkait dengan akurasi dan keterkinian informasi yang kami sajikan, hal mana akan terus kami perbaiki dari waktu kewaktu.\\nDalam hal Anda menemukan inakurasi informasi yang termuat pada situs ini atau informasi yang seharusnya ada, namun belum tersedia, maka harap segera hubungi Kepaniteraan Mahkamah Agung RI melalui :\\nEmail : kepaniteraan@mahkamahagung.go.id\\nTelp : 021-384 3348 (ext.318)\\n\\nHalaman 10\\n\\nHalaman10dari10hal. Put. Nomor714PK/Pdt/2018.M E N G A D I L I:1.Menolak permohonan peninjauan kembali dariParaPemohon PeninjauanKembali:1.WARSINI binti NAWIDJO, 2. PUJIATI binti NAWIDJO, 3.JUMIATI binti NAWIDJO. 4.SUPYANTO bin NAWIDJO,5.MARIYATI/istrialmarhumAGUS SUDJITO bin NAWIDJO,6.LIAMA/istrialmarhumWAKIDI bin NAWIDJOtersebut;2.MenghukumParaPemohon Peninjauan Kembali untuk membayar biayaperkara dalamsemua tingkat peradilan, yang dalam tingkat peninjauankembali sebesar Rp2.500.000,00(dua juta lima ratus ribu rupiah);Demikianlah diputuskan dalam rapat musyawarah Majelis Hakimpada hariSenintanggal29 Oktober 2018oleh Soltoni Mohdally, S.H., M.H.,Hakim Agung yang ditetapkan oleh Ketua Mahkamah Agung sebagai KetuaMajelis, Dr. H. Zahrul Rabain, S.H., M.H.,dan Dr. Ibrahim, S.H., M.H., LL.M.,Hakim-hakim Agung sebagaiHakim Anggotadan diucapkan dalam sidangterbuka untuk umum pada hari itu juga oleh Ketua Majelis dengan dihadiriPara Hakim Anggotatersebut dan N.L.Perginasari A.R., S.H., M.Hum.,Panitera Pengganti dengan tidak dihadiri olehPara Pihak.Hakim-Hakim Anggota:Ketua Majelis,ttd./Dr. H. Zahrul Rabain, S.H., M.H.ttd./Soltoni Mohdally, S.H., M.H.ttd./Dr. Ibrahim, S.H., M.H., LL.M.Panitera Pengganti,ttd./N.L. Perginasari A.R., S.H.,M.Hum.Biaya Peninjauan Kembali:1.M e t e r a i ……....Rp6.000,002.R e d a k s i ……...Rp5.000,003.Administrasi PK …Rp2.489.000,00J u m l a h ….........…..Rp2.500.000,00Untuk SalinanMAHKAMAH AGUNG RIa.n. PaniteraPanitera Muda PerdataDr. PRIM HARYADI, S.H., M.H.NIP. 19630325 198803 1 001\\x0c'"
      ]
     },
     "execution_count": 8,
     "metadata": {},
     "output_type": "execute_result"
    }
   ],
   "source": [
    "convert_pdf_to_txt(\"714_PK_2018_ZR-IBR-SLT_PP_NLP_TIO.pdf\")"
   ]
  },
  {
   "cell_type": "code",
   "execution_count": null,
   "metadata": {},
   "outputs": [],
   "source": []
  }
 ],
 "metadata": {
  "kernelspec": {
   "display_name": "Python 3",
   "language": "python",
   "name": "python3"
  },
  "language_info": {
   "codemirror_mode": {
    "name": "ipython",
    "version": 3
   },
   "file_extension": ".py",
   "mimetype": "text/x-python",
   "name": "python",
   "nbconvert_exporter": "python",
   "pygments_lexer": "ipython3",
   "version": "3.6.8"
  }
 },
 "nbformat": 4,
 "nbformat_minor": 2
}
